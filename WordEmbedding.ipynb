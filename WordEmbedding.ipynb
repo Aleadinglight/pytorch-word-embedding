{
  "nbformat": 4,
  "nbformat_minor": 0,
  "metadata": {
    "colab": {
      "name": "WordEmbedding.ipynb",
      "version": "0.3.2",
      "provenance": [],
      "collapsed_sections": [],
      "include_colab_link": true
    },
    "kernelspec": {
      "name": "python3",
      "display_name": "Python 3"
    }
  },
  "cells": [
    {
      "cell_type": "markdown",
      "metadata": {
        "id": "view-in-github",
        "colab_type": "text"
      },
      "source": [
        "[View in Colaboratory](https://colab.research.google.com/github/Aleadinglight/pytorch-word-embedding/blob/master/WordEmbedding.ipynb)"
      ]
    },
    {
      "metadata": {
        "id": "r4UC4ol3mb_u",
        "colab_type": "code",
        "colab": {
          "base_uri": "https://localhost:8080/",
          "height": 52
        },
        "outputId": "65fa2e83-5282-43ea-a34c-7be140b5d088"
      },
      "cell_type": "code",
      "source": [
        "import torch\n",
        "import torch.nn as nn\n",
        "import torch.nn.functional as F\n",
        "import torch.optim as optim\n",
        "\n",
        "# The embeds will random values\n",
        "torch.manual_seed(1)\n",
        "\n",
        "# Create a dictionary\n",
        "word_to_ix = {\"hello\": 0, \"world\": 1}\n",
        "# 2 words in vocab, 5 dimensional embeddings because there is 5 characters\n",
        "embeds = nn.Embedding(2, 5)  \n",
        "\n",
        "# This lookup_tensor returns the index of the word, then cast it to torch.tensor\n",
        "lookup_tensor = torch.tensor([word_to_ix[\"world\"]], dtype=torch.long)\n",
        "# We can search for embeds tensor with this\n",
        "hello_embed = embeds(lookup_tensor)\n",
        "\n",
        "print(hello_embed)"
      ],
      "execution_count": 0,
      "outputs": [
        {
          "output_type": "stream",
          "text": [
            "tensor([ 1])\n",
            "tensor([[-0.1661, -1.5228,  0.3817, -1.0276, -0.5631]])\n"
          ],
          "name": "stdout"
        }
      ]
    }
  ]
}